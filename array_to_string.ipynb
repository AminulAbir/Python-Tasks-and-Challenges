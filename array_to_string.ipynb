{
 "cells": [
  {
   "cell_type": "markdown",
   "metadata": {},
   "source": [
    "### string to array "
   ]
  },
  {
   "cell_type": "code",
   "execution_count": 1,
   "metadata": {},
   "outputs": [
    {
     "name": "stdout",
     "output_type": "stream",
     "text": [
      "['Hello', 'its', 'show', 'time']\n"
     ]
    }
   ],
   "source": [
    "# split() method\n",
    "string = \"Hello its show time\"\n",
    "array = string.split()\n",
    "print(array)"
   ]
  },
  {
   "cell_type": "markdown",
   "metadata": {},
   "source": [
    "### array to string"
   ]
  },
  {
   "cell_type": "code",
   "execution_count": 2,
   "metadata": {},
   "outputs": [
    {
     "name": "stdout",
     "output_type": "stream",
     "text": [
      "Hello its show time \n"
     ]
    }
   ],
   "source": [
    "# method 1\n",
    "array = ['Hello', 'its', 'show', 'time']\n",
    "str1 = \"\"\n",
    "for i in array:\n",
    "    str1 += i + \" \"\n",
    "print(str1)"
   ]
  },
  {
   "cell_type": "code",
   "execution_count": 3,
   "metadata": {},
   "outputs": [
    {
     "name": "stdout",
     "output_type": "stream",
     "text": [
      "Hello its show time\n"
     ]
    }
   ],
   "source": [
    "# method 2\n",
    "array = ['Hello', 'its', 'show', 'time']\n",
    "str2 = \" \".join(array)\n",
    "print(str2)"
   ]
  },
  {
   "cell_type": "code",
   "execution_count": 4,
   "metadata": {},
   "outputs": [
    {
     "name": "stdout",
     "output_type": "stream",
     "text": [
      "Hello its show time at 3 am\n"
     ]
    }
   ],
   "source": [
    "# method 3\n",
    "array = ['Hello', 'its', 'show', 'time', 'at', 3, 'am']\n",
    "str3 = \" \".join(str(j) for j in array)\n",
    "print(str3)"
   ]
  },
  {
   "cell_type": "code",
   "execution_count": 5,
   "metadata": {},
   "outputs": [
    {
     "name": "stdout",
     "output_type": "stream",
     "text": [
      "Hello its show time at 3 am\n"
     ]
    }
   ],
   "source": [
    "# method 4\n",
    "\n",
    "array = ['Hello', 'its', 'show', 'time', 'at', 3, 'am']\n",
    "str4 = \" \".join(map(str, array))\n",
    "print(str4)"
   ]
  },
  {
   "cell_type": "code",
   "execution_count": null,
   "metadata": {},
   "outputs": [],
   "source": []
  }
 ],
 "metadata": {
  "kernelspec": {
   "display_name": "Python 3",
   "language": "python",
   "name": "python3"
  },
  "language_info": {
   "codemirror_mode": {
    "name": "ipython",
    "version": 3
   },
   "file_extension": ".py",
   "mimetype": "text/x-python",
   "name": "python",
   "nbconvert_exporter": "python",
   "pygments_lexer": "ipython3",
   "version": "3.7.3"
  }
 },
 "nbformat": 4,
 "nbformat_minor": 2
}
