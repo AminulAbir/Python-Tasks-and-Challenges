{
 "cells": [
  {
   "cell_type": "code",
   "execution_count": 1,
   "metadata": {},
   "outputs": [],
   "source": [
    "# Happy Number finding function\n",
    "def happyNumber(number):\n",
    "    div = 0\n",
    "    res = 0\n",
    "    num = 0\n",
    "    count = 1 # we check whether it takes too long to get the reslut\n",
    "    while True: # this loop is to calculate happy number\n",
    "        while True: # this loop is to break the number for each time of execution of the loop\n",
    "            div = number//10\n",
    "            res = number%10\n",
    "            num += res**2\n",
    "            number = div        \n",
    "            if number == 0:\n",
    "                count += 1\n",
    "                break\n",
    "        if num == 1: # if the result atlast is 1 then the happy number is found and return True\n",
    "            return True\n",
    "        elif count >= 100000: # for 100000 times of loop execution            \n",
    "            return False\n",
    "        else:\n",
    "            number = num\n",
    "            num = 0"
   ]
  },
  {
   "cell_type": "code",
   "execution_count": 2,
   "metadata": {},
   "outputs": [
    {
     "name": "stdin",
     "output_type": "stream",
     "text": [
      "Enter the Natural Number you want to check:  7\n"
     ]
    },
    {
     "name": "stdout",
     "output_type": "stream",
     "text": [
      "7 is a Happy Number\n"
     ]
    }
   ],
   "source": [
    "# Main Function\n",
    "if __name__ == \"__main__\":\n",
    "    number = int(input(\"Enter the Natural Number you want to check: \"))\n",
    "    if happyNumber(number):\n",
    "        print(\"{} is a Happy Number\".format(number))\n",
    "    else:\n",
    "        print(\"It takes too long to execute\")"
   ]
  },
  {
   "cell_type": "code",
   "execution_count": 3,
   "metadata": {},
   "outputs": [
    {
     "name": "stdin",
     "output_type": "stream",
     "text": [
      "Enter how many Happy Numbers from 1 you want to know:  20\n"
     ]
    },
    {
     "name": "stdout",
     "output_type": "stream",
     "text": [
      "1 is a Happy Number\n",
      "2 is not a Happy Number\n",
      "3 is not a Happy Number\n",
      "4 is not a Happy Number\n",
      "5 is not a Happy Number\n",
      "6 is not a Happy Number\n",
      "7 is a Happy Number\n",
      "8 is not a Happy Number\n",
      "9 is not a Happy Number\n",
      "10 is a Happy Number\n",
      "11 is not a Happy Number\n",
      "12 is not a Happy Number\n",
      "13 is a Happy Number\n",
      "14 is not a Happy Number\n",
      "15 is not a Happy Number\n",
      "16 is not a Happy Number\n",
      "17 is not a Happy Number\n",
      "18 is not a Happy Number\n",
      "19 is a Happy Number\n",
      "20 is not a Happy Number\n",
      "\n",
      "There are 5 Happy Numbers from 1 to 20\n"
     ]
    }
   ],
   "source": [
    "# Main Function\n",
    "if __name__ == \"__main__\":\n",
    "    N = int(input(\"Enter how many Happy Numbers from 1 you want to know: \"))\n",
    "    C = 0\n",
    "    for i in range(1, N+1, 1):\n",
    "        if happyNumber(i):\n",
    "            print(\"{} is a Happy Number\".format(i))\n",
    "            C += 1\n",
    "        else:\n",
    "            print(\"{} is not a Happy Number\".format(i))\n",
    "    # for printing total number of happy numbers from 1 to N\n",
    "    print()\n",
    "    print(\"There are {} Happy Numbers from 1 to {}\". format(C, N))"
   ]
  }
 ],
 "metadata": {
  "kernelspec": {
   "display_name": "Python 3",
   "language": "python",
   "name": "python3"
  },
  "language_info": {
   "codemirror_mode": {
    "name": "ipython",
    "version": 3
   },
   "file_extension": ".py",
   "mimetype": "text/x-python",
   "name": "python",
   "nbconvert_exporter": "python",
   "pygments_lexer": "ipython3",
   "version": "3.7.3"
  }
 },
 "nbformat": 4,
 "nbformat_minor": 2
}
