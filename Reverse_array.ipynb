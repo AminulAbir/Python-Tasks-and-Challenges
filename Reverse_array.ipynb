{
 "cells": [
  {
   "cell_type": "markdown",
   "metadata": {},
   "source": [
    "# we want to reverse an array in O(N) and to be in-place as well"
   ]
  },
  {
   "cell_type": "code",
   "execution_count": 1,
   "metadata": {},
   "outputs": [],
   "source": [
    "def swap(array, x, y):\n",
    "    array[x], array[y] = array[y], array[x]"
   ]
  },
  {
   "cell_type": "code",
   "execution_count": 2,
   "metadata": {},
   "outputs": [
    {
     "name": "stdout",
     "output_type": "stream",
     "text": [
      "[9, 0, 7, 3, 8, 44, 5]\n"
     ]
    }
   ],
   "source": [
    "if __name__ == \"__main__\":\n",
    "    array = [5,44,8,3,7,0,9]\n",
    "    N = len(array)-1\n",
    "    \n",
    "    for i in range(len(array)):\n",
    "        swap(array, i, N)\n",
    "        N = N-1\n",
    "        if i >= N:\n",
    "            break\n",
    "    print(array)"
   ]
  },
  {
   "cell_type": "code",
   "execution_count": 3,
   "metadata": {},
   "outputs": [
    {
     "name": "stdout",
     "output_type": "stream",
     "text": [
      "[9, 0, 7, 3, 8, 44, 5]\n"
     ]
    }
   ],
   "source": [
    "# by using indexing method\n",
    "if __name__ == \"__main__\":\n",
    "    array = [5,44,8,3,7,0,9]\n",
    "    #array = [k for k in range(3,31)]\n",
    "    array = array[::-1]\n",
    "    #array = array[-1::-1]\n",
    "    print(array)"
   ]
  },
  {
   "cell_type": "markdown",
   "metadata": {},
   "source": [
    "# we want to reverse an array in O(N) and to be not in-place as well"
   ]
  },
  {
   "cell_type": "code",
   "execution_count": 4,
   "metadata": {},
   "outputs": [
    {
     "name": "stdout",
     "output_type": "stream",
     "text": [
      "[9, 0, 7, 3, 8, 44, 5]\n"
     ]
    }
   ],
   "source": [
    "if __name__ == \"__main__\":\n",
    "    array = [5,44,8,3,7,0,9]\n",
    "    N = len(array)\n",
    "    k = 0\n",
    "    newArray = [None]*N\n",
    "    \n",
    "    for i in range(N-1, -1, -1):\n",
    "        newArray[i] = array[k]\n",
    "        k += 1\n",
    "        \n",
    "    print(newArray)"
   ]
  }
 ],
 "metadata": {
  "kernelspec": {
   "display_name": "Python 3",
   "language": "python",
   "name": "python3"
  },
  "language_info": {
   "codemirror_mode": {
    "name": "ipython",
    "version": 3
   },
   "file_extension": ".py",
   "mimetype": "text/x-python",
   "name": "python",
   "nbconvert_exporter": "python",
   "pygments_lexer": "ipython3",
   "version": "3.7.3"
  }
 },
 "nbformat": 4,
 "nbformat_minor": 2
}
