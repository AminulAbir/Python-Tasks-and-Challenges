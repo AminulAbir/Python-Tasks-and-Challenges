{
 "cells": [
  {
   "cell_type": "code",
   "execution_count": 1,
   "metadata": {},
   "outputs": [],
   "source": [
    "class RemoveDuplicate(object):\n",
    "    def __init__(self, array):\n",
    "        self.array = array\n",
    "        self.new_array = []\n",
    "        \n",
    "    def removeDuplicate(self):\n",
    "        for i in range(len(self.array)):\n",
    "            for j in range(i+1, len(self.array)):\n",
    "                if self.array[i] == self.array[j]:\n",
    "                    if self.array[i] not in self.new_array:\n",
    "                        self.new_array.append(self.array[i])\n",
    "                else:\n",
    "                    if self.array[i] not in self.new_array:\n",
    "                        self.new_array.append(self.array[i])\n",
    "        \n",
    "    def printNewArray(self):\n",
    "        return self.new_array"
   ]
  },
  {
   "cell_type": "code",
   "execution_count": 2,
   "metadata": {},
   "outputs": [
    {
     "data": {
      "text/plain": [
       "[1, 8, 7, 5, 9, 0]"
      ]
     },
     "execution_count": 2,
     "metadata": {},
     "output_type": "execute_result"
    }
   ],
   "source": [
    "obj = RemoveDuplicate([1,8,7,5,5,1,8,9,0,9])\n",
    "obj.removeDuplicate()\n",
    "obj.printNewArray()"
   ]
  },
  {
   "cell_type": "code",
   "execution_count": null,
   "metadata": {},
   "outputs": [],
   "source": []
  }
 ],
 "metadata": {
  "kernelspec": {
   "display_name": "Python 3",
   "language": "python",
   "name": "python3"
  },
  "language_info": {
   "codemirror_mode": {
    "name": "ipython",
    "version": 3
   },
   "file_extension": ".py",
   "mimetype": "text/x-python",
   "name": "python",
   "nbconvert_exporter": "python",
   "pygments_lexer": "ipython3",
   "version": "3.7.3"
  }
 },
 "nbformat": 4,
 "nbformat_minor": 2
}
