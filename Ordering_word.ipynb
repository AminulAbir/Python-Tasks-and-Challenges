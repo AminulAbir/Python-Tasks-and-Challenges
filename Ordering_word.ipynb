{
 "cells": [
  {
   "cell_type": "markdown",
   "metadata": {},
   "source": [
    "# sorting the name but we don't care about the lower class and upper class"
   ]
  },
  {
   "cell_type": "code",
   "execution_count": 1,
   "metadata": {},
   "outputs": [],
   "source": [
    "def swap(array, x, y):\n",
    "    array[x], array[y] = array[y], array[x]"
   ]
  },
  {
   "cell_type": "code",
   "execution_count": 2,
   "metadata": {},
   "outputs": [],
   "source": [
    "def insertion_sort(array, newArray):\n",
    "    for i in range(len(array)):\n",
    "        j = i\n",
    "        while j>0 and array[j]<array[j-1]:\n",
    "            swap(array, j, j-1)\n",
    "            j -= 1"
   ]
  },
  {
   "cell_type": "code",
   "execution_count": 3,
   "metadata": {},
   "outputs": [],
   "source": [
    "newArray = []\n",
    "sentence = \"it is ME who has DONE the TASK\" # here all the alphabets of the word shoulb lower or Upper\n",
    "array = sentence.split()\n",
    "newArray = array.copy()\n",
    "\n",
    "array = [i.lower() for i in array]\n",
    "        \n",
    "insertion_sort(array, newArray)\n",
    "           \n",
    "for k in newArray:\n",
    "    if k.isupper():\n",
    "        for m in range(len(array)):\n",
    "            if k == array[m].upper():\n",
    "                array[m] = k"
   ]
  },
  {
   "cell_type": "code",
   "execution_count": 4,
   "metadata": {},
   "outputs": [
    {
     "name": "stdout",
     "output_type": "stream",
     "text": [
      "['DONE', 'has', 'is', 'it', 'ME', 'TASK', 'the', 'who']\n"
     ]
    }
   ],
   "source": [
    "print(array)"
   ]
  }
 ],
 "metadata": {
  "kernelspec": {
   "display_name": "Python 3",
   "language": "python",
   "name": "python3"
  },
  "language_info": {
   "codemirror_mode": {
    "name": "ipython",
    "version": 3
   },
   "file_extension": ".py",
   "mimetype": "text/x-python",
   "name": "python",
   "nbconvert_exporter": "python",
   "pygments_lexer": "ipython3",
   "version": "3.7.3"
  }
 },
 "nbformat": 4,
 "nbformat_minor": 2
}
